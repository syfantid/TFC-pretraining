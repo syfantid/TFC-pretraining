{
 "cells": [
  {
   "cell_type": "code",
   "execution_count": 28,
   "metadata": {
    "collapsed": true
   },
   "outputs": [],
   "source": [
    "import numpy as np\n",
    "import pandas as pd\n",
    "import os\n",
    "import torch\n",
    "\n",
    "from definitions import ROOT_DIR"
   ]
  },
  {
   "cell_type": "code",
   "execution_count": 29,
   "outputs": [],
   "source": [
    "os.chdir(ROOT_DIR)"
   ],
   "metadata": {
    "collapsed": false
   }
  },
  {
   "cell_type": "code",
   "execution_count": 30,
   "outputs": [],
   "source": [
    "train = pd.read_pickle('datasets\\\\MIMIC\\\\train.pkl')\n",
    "val = pd.read_pickle('datasets\\\\MIMIC\\\\val.pkl')\n",
    "test = pd.read_pickle('datasets\\\\MIMIC\\\\test.pkl')"
   ],
   "metadata": {
    "collapsed": false
   }
  },
  {
   "cell_type": "code",
   "execution_count": 31,
   "outputs": [],
   "source": [
    "# TRAIN\n",
    "train_samples = torch.from_numpy(train[0])\n",
    "train_labels = torch.from_numpy(np.asarray(train[1]))\n",
    "train_tensor = {'samples': train_samples, 'labels': train_labels}\n",
    "\n",
    "# VAL\n",
    "val_samples = torch.from_numpy(val[0])\n",
    "val_labels = torch.from_numpy(np.asarray(val[1]))\n",
    "val_tensor = {'samples': val_samples, 'labels': val_labels}\n",
    "\n",
    "# TEST\n",
    "test = test['data']\n",
    "test_samples = torch.from_numpy(test[0])\n",
    "test_labels = torch.from_numpy(np.asarray(test[1]))\n",
    "test_tensor = {'samples': test_samples, 'labels': test_labels}"
   ],
   "metadata": {
    "collapsed": false
   }
  },
  {
   "cell_type": "code",
   "execution_count": 32,
   "outputs": [],
   "source": [
    "# SAVE AS .PT\n",
    "path = \"datasets\\\\MIMIC\\\\\"\n",
    "torch.save(train_tensor, os.path.join(path, \"train.pt\"))\n",
    "torch.save(val_tensor, os.path.join(path, \"val.pt\"))\n",
    "torch.save(test_tensor, os.path.join(path, \"test.pt\"))"
   ],
   "metadata": {
    "collapsed": false
   }
  },
  {
   "cell_type": "code",
   "execution_count": 32,
   "outputs": [],
   "source": [],
   "metadata": {
    "collapsed": false
   }
  }
 ],
 "metadata": {
  "kernelspec": {
   "display_name": "Python 3",
   "language": "python",
   "name": "python3"
  },
  "language_info": {
   "codemirror_mode": {
    "name": "ipython",
    "version": 2
   },
   "file_extension": ".py",
   "mimetype": "text/x-python",
   "name": "python",
   "nbconvert_exporter": "python",
   "pygments_lexer": "ipython2",
   "version": "2.7.6"
  }
 },
 "nbformat": 4,
 "nbformat_minor": 0
}
