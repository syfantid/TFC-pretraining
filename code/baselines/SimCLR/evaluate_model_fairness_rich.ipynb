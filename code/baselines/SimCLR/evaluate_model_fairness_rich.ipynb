{
 "cells": [
  {
   "cell_type": "code",
   "execution_count": 1,
   "metadata": {
    "collapsed": true
   },
   "outputs": [],
   "source": [
    "import os\n",
    "import pickle\n",
    "\n",
    "import pandas as pd\n",
    "import scipy\n",
    "import datetime\n",
    "import numpy as np\n",
    "import tensorflow as tf\n",
    "\n",
    "from definitions import ROOT_DIR\n",
    "\n",
    "seed = 2\n",
    "tf.random.set_seed(seed)\n",
    "np.random.seed(seed)\n",
    "\n",
    "import simclr_models\n",
    "import simclr_utitlities"
   ]
  },
  {
   "cell_type": "code",
   "execution_count": 2,
   "outputs": [],
   "source": [
    "# Dataset-specific\n",
    "# working_directory = 'SleepEEG/'\n",
    "# data_folder = 'SleepEEG'\n",
    "working_directory = 'MIMIC/'\n",
    "data_folder = 'MIMIC'\n",
    "model_name = '20230227-170733_finetuning.hdf5'"
   ],
   "metadata": {
    "collapsed": false
   }
  },
  {
   "cell_type": "code",
   "execution_count": 3,
   "outputs": [],
   "source": [
    "# Load preprocessed data\n",
    "np_train = (np.load(os.path.join(data_folder, 'train_x.npy')),\n",
    "           np.load(os.path.join(data_folder, 'train_y.npy')))\n",
    "np_val = (np.load(os.path.join(data_folder, 'val_x.npy')),\n",
    "           np.load(os.path.join(data_folder, 'val_y.npy')))\n",
    "np_test = (np.load(os.path.join(data_folder, 'test_x.npy')),\n",
    "           np.load(os.path.join(data_folder, 'test_y.npy')))\n",
    "\n",
    "pretrained_model = tf.keras.models.load_model(os.path.join(working_directory, model_name), compile=False)\n",
    "probs = pretrained_model.predict(np_test[0])\n",
    "predictions = np.argmax(probs, axis=1)\n",
    "# print(simclr_utitlities.evaluate_model_simple(pretrained_model.predict(np_test[0]), np_test[1], return_dict=True))"
   ],
   "metadata": {
    "collapsed": false
   }
  },
  {
   "cell_type": "code",
   "execution_count": 5,
   "outputs": [
    {
     "data": {
      "text/plain": "   SUBJECT_ID LANGUAGE INSURANCE           RELIGION              ETHNICITY  \\\n0          22      NaN   Private       UNOBTAINABLE                  WHITE   \n1          23     ENGL  Medicare           CATHOLIC                  WHITE   \n2          24      NaN   Private  PROTESTANT QUAKER                  WHITE   \n3          25      NaN   Private       UNOBTAINABLE                  WHITE   \n4          26      NaN  Medicare           CATHOLIC  UNKNOWN/NOT SPECIFIED   \n\n  GENDER  AGE  \n0      F    1  \n1      M    0  \n2      M    1  \n3      M    1  \n4      M    0  ",
      "text/html": "<div>\n<style scoped>\n    .dataframe tbody tr th:only-of-type {\n        vertical-align: middle;\n    }\n\n    .dataframe tbody tr th {\n        vertical-align: top;\n    }\n\n    .dataframe thead th {\n        text-align: right;\n    }\n</style>\n<table border=\"1\" class=\"dataframe\">\n  <thead>\n    <tr style=\"text-align: right;\">\n      <th></th>\n      <th>SUBJECT_ID</th>\n      <th>LANGUAGE</th>\n      <th>INSURANCE</th>\n      <th>RELIGION</th>\n      <th>ETHNICITY</th>\n      <th>GENDER</th>\n      <th>AGE</th>\n    </tr>\n  </thead>\n  <tbody>\n    <tr>\n      <th>0</th>\n      <td>22</td>\n      <td>NaN</td>\n      <td>Private</td>\n      <td>UNOBTAINABLE</td>\n      <td>WHITE</td>\n      <td>F</td>\n      <td>1</td>\n    </tr>\n    <tr>\n      <th>1</th>\n      <td>23</td>\n      <td>ENGL</td>\n      <td>Medicare</td>\n      <td>CATHOLIC</td>\n      <td>WHITE</td>\n      <td>M</td>\n      <td>0</td>\n    </tr>\n    <tr>\n      <th>2</th>\n      <td>24</td>\n      <td>NaN</td>\n      <td>Private</td>\n      <td>PROTESTANT QUAKER</td>\n      <td>WHITE</td>\n      <td>M</td>\n      <td>1</td>\n    </tr>\n    <tr>\n      <th>3</th>\n      <td>25</td>\n      <td>NaN</td>\n      <td>Private</td>\n      <td>UNOBTAINABLE</td>\n      <td>WHITE</td>\n      <td>M</td>\n      <td>1</td>\n    </tr>\n    <tr>\n      <th>4</th>\n      <td>26</td>\n      <td>NaN</td>\n      <td>Medicare</td>\n      <td>CATHOLIC</td>\n      <td>UNKNOWN/NOT SPECIFIED</td>\n      <td>M</td>\n      <td>0</td>\n    </tr>\n  </tbody>\n</table>\n</div>"
     },
     "execution_count": 5,
     "metadata": {},
     "output_type": "execute_result"
    }
   ],
   "source": [
    "os.chdir(ROOT_DIR)\n",
    "subjects = pd.read_csv(os.path.join('datasets', data_folder, 'demographics_rich.csv'))\n",
    "subjects.head()"
   ],
   "metadata": {
    "collapsed": false
   }
  },
  {
   "cell_type": "code",
   "execution_count": 6,
   "outputs": [
    {
     "data": {
      "text/plain": "                             stay  y_true\n0   10011_episode1_timeseries.csv       1\n1   10026_episode1_timeseries.csv       0\n2   10030_episode1_timeseries.csv       0\n3   10042_episode1_timeseries.csv       0\n4   10094_episode1_timeseries.csv       0\n5   10094_episode2_timeseries.csv       1\n6    1009_episode1_timeseries.csv       0\n7   10102_episode1_timeseries.csv       1\n8   10149_episode1_timeseries.csv       0\n9   10149_episode2_timeseries.csv       0\n10  10164_episode1_timeseries.csv       0\n11  10186_episode1_timeseries.csv       0\n12   1018_episode1_timeseries.csv       0\n13   1018_episode2_timeseries.csv       0\n14  10241_episode1_timeseries.csv       0\n15  10246_episode2_timeseries.csv       0\n16  10246_episode3_timeseries.csv       0\n17  10266_episode1_timeseries.csv       0\n18  10301_episode2_timeseries.csv       1\n19   1030_episode1_timeseries.csv       0",
      "text/html": "<div>\n<style scoped>\n    .dataframe tbody tr th:only-of-type {\n        vertical-align: middle;\n    }\n\n    .dataframe tbody tr th {\n        vertical-align: top;\n    }\n\n    .dataframe thead th {\n        text-align: right;\n    }\n</style>\n<table border=\"1\" class=\"dataframe\">\n  <thead>\n    <tr style=\"text-align: right;\">\n      <th></th>\n      <th>stay</th>\n      <th>y_true</th>\n    </tr>\n  </thead>\n  <tbody>\n    <tr>\n      <th>0</th>\n      <td>10011_episode1_timeseries.csv</td>\n      <td>1</td>\n    </tr>\n    <tr>\n      <th>1</th>\n      <td>10026_episode1_timeseries.csv</td>\n      <td>0</td>\n    </tr>\n    <tr>\n      <th>2</th>\n      <td>10030_episode1_timeseries.csv</td>\n      <td>0</td>\n    </tr>\n    <tr>\n      <th>3</th>\n      <td>10042_episode1_timeseries.csv</td>\n      <td>0</td>\n    </tr>\n    <tr>\n      <th>4</th>\n      <td>10094_episode1_timeseries.csv</td>\n      <td>0</td>\n    </tr>\n    <tr>\n      <th>5</th>\n      <td>10094_episode2_timeseries.csv</td>\n      <td>1</td>\n    </tr>\n    <tr>\n      <th>6</th>\n      <td>1009_episode1_timeseries.csv</td>\n      <td>0</td>\n    </tr>\n    <tr>\n      <th>7</th>\n      <td>10102_episode1_timeseries.csv</td>\n      <td>1</td>\n    </tr>\n    <tr>\n      <th>8</th>\n      <td>10149_episode1_timeseries.csv</td>\n      <td>0</td>\n    </tr>\n    <tr>\n      <th>9</th>\n      <td>10149_episode2_timeseries.csv</td>\n      <td>0</td>\n    </tr>\n    <tr>\n      <th>10</th>\n      <td>10164_episode1_timeseries.csv</td>\n      <td>0</td>\n    </tr>\n    <tr>\n      <th>11</th>\n      <td>10186_episode1_timeseries.csv</td>\n      <td>0</td>\n    </tr>\n    <tr>\n      <th>12</th>\n      <td>1018_episode1_timeseries.csv</td>\n      <td>0</td>\n    </tr>\n    <tr>\n      <th>13</th>\n      <td>1018_episode2_timeseries.csv</td>\n      <td>0</td>\n    </tr>\n    <tr>\n      <th>14</th>\n      <td>10241_episode1_timeseries.csv</td>\n      <td>0</td>\n    </tr>\n    <tr>\n      <th>15</th>\n      <td>10246_episode2_timeseries.csv</td>\n      <td>0</td>\n    </tr>\n    <tr>\n      <th>16</th>\n      <td>10246_episode3_timeseries.csv</td>\n      <td>0</td>\n    </tr>\n    <tr>\n      <th>17</th>\n      <td>10266_episode1_timeseries.csv</td>\n      <td>0</td>\n    </tr>\n    <tr>\n      <th>18</th>\n      <td>10301_episode2_timeseries.csv</td>\n      <td>1</td>\n    </tr>\n    <tr>\n      <th>19</th>\n      <td>1030_episode1_timeseries.csv</td>\n      <td>0</td>\n    </tr>\n  </tbody>\n</table>\n</div>"
     },
     "execution_count": 6,
     "metadata": {},
     "output_type": "execute_result"
    }
   ],
   "source": [
    "test_listfile = pd.read_csv(os.path.join('datasets', data_folder, 'test_listfile.csv'))\n",
    "test_listfile.head(20)"
   ],
   "metadata": {
    "collapsed": false
   }
  },
  {
   "cell_type": "code",
   "execution_count": 7,
   "outputs": [
    {
     "data": {
      "text/plain": "                            stay  y_true  subject\n0  10011_episode1_timeseries.csv       1    10011\n1  10026_episode1_timeseries.csv       0    10026\n2  10030_episode1_timeseries.csv       0    10030\n3  10042_episode1_timeseries.csv       0    10042\n4  10094_episode1_timeseries.csv       0    10094",
      "text/html": "<div>\n<style scoped>\n    .dataframe tbody tr th:only-of-type {\n        vertical-align: middle;\n    }\n\n    .dataframe tbody tr th {\n        vertical-align: top;\n    }\n\n    .dataframe thead th {\n        text-align: right;\n    }\n</style>\n<table border=\"1\" class=\"dataframe\">\n  <thead>\n    <tr style=\"text-align: right;\">\n      <th></th>\n      <th>stay</th>\n      <th>y_true</th>\n      <th>subject</th>\n    </tr>\n  </thead>\n  <tbody>\n    <tr>\n      <th>0</th>\n      <td>10011_episode1_timeseries.csv</td>\n      <td>1</td>\n      <td>10011</td>\n    </tr>\n    <tr>\n      <th>1</th>\n      <td>10026_episode1_timeseries.csv</td>\n      <td>0</td>\n      <td>10026</td>\n    </tr>\n    <tr>\n      <th>2</th>\n      <td>10030_episode1_timeseries.csv</td>\n      <td>0</td>\n      <td>10030</td>\n    </tr>\n    <tr>\n      <th>3</th>\n      <td>10042_episode1_timeseries.csv</td>\n      <td>0</td>\n      <td>10042</td>\n    </tr>\n    <tr>\n      <th>4</th>\n      <td>10094_episode1_timeseries.csv</td>\n      <td>0</td>\n      <td>10094</td>\n    </tr>\n  </tbody>\n</table>\n</div>"
     },
     "execution_count": 7,
     "metadata": {},
     "output_type": "execute_result"
    }
   ],
   "source": [
    "# Get subject from test\n",
    "test_listfile.loc[:, \"subject\"] = test_listfile.stay.apply(lambda stay: stay.split(\"_\")[0]).astype(int)\n",
    "test_listfile.head()"
   ],
   "metadata": {
    "collapsed": false
   }
  },
  {
   "cell_type": "code",
   "execution_count": 8,
   "outputs": [
    {
     "data": {
      "text/plain": "                            stay  y_true  subject  SUBJECT_ID LANGUAGE  \\\n0  10011_episode1_timeseries.csv       1    10011       10011      NaN   \n1  10026_episode1_timeseries.csv       0    10026       10026      NaN   \n2  10030_episode1_timeseries.csv       0    10030       10030      NaN   \n3  10042_episode1_timeseries.csv       0    10042       10042      NaN   \n4  10094_episode1_timeseries.csv       0    10094       10094      NaN   \n\n  INSURANCE      RELIGION               ETHNICITY GENDER  AGE  \n0   Private      CATHOLIC   UNKNOWN/NOT SPECIFIED      F    1  \n1  Medicare         OTHER                   WHITE      F    0  \n2  Medicare      CATHOLIC                   WHITE      M    0  \n3  Medicare  UNOBTAINABLE                   WHITE      M    0  \n4  Medicare  UNOBTAINABLE  BLACK/AFRICAN AMERICAN      M    0  ",
      "text/html": "<div>\n<style scoped>\n    .dataframe tbody tr th:only-of-type {\n        vertical-align: middle;\n    }\n\n    .dataframe tbody tr th {\n        vertical-align: top;\n    }\n\n    .dataframe thead th {\n        text-align: right;\n    }\n</style>\n<table border=\"1\" class=\"dataframe\">\n  <thead>\n    <tr style=\"text-align: right;\">\n      <th></th>\n      <th>stay</th>\n      <th>y_true</th>\n      <th>subject</th>\n      <th>SUBJECT_ID</th>\n      <th>LANGUAGE</th>\n      <th>INSURANCE</th>\n      <th>RELIGION</th>\n      <th>ETHNICITY</th>\n      <th>GENDER</th>\n      <th>AGE</th>\n    </tr>\n  </thead>\n  <tbody>\n    <tr>\n      <th>0</th>\n      <td>10011_episode1_timeseries.csv</td>\n      <td>1</td>\n      <td>10011</td>\n      <td>10011</td>\n      <td>NaN</td>\n      <td>Private</td>\n      <td>CATHOLIC</td>\n      <td>UNKNOWN/NOT SPECIFIED</td>\n      <td>F</td>\n      <td>1</td>\n    </tr>\n    <tr>\n      <th>1</th>\n      <td>10026_episode1_timeseries.csv</td>\n      <td>0</td>\n      <td>10026</td>\n      <td>10026</td>\n      <td>NaN</td>\n      <td>Medicare</td>\n      <td>OTHER</td>\n      <td>WHITE</td>\n      <td>F</td>\n      <td>0</td>\n    </tr>\n    <tr>\n      <th>2</th>\n      <td>10030_episode1_timeseries.csv</td>\n      <td>0</td>\n      <td>10030</td>\n      <td>10030</td>\n      <td>NaN</td>\n      <td>Medicare</td>\n      <td>CATHOLIC</td>\n      <td>WHITE</td>\n      <td>M</td>\n      <td>0</td>\n    </tr>\n    <tr>\n      <th>3</th>\n      <td>10042_episode1_timeseries.csv</td>\n      <td>0</td>\n      <td>10042</td>\n      <td>10042</td>\n      <td>NaN</td>\n      <td>Medicare</td>\n      <td>UNOBTAINABLE</td>\n      <td>WHITE</td>\n      <td>M</td>\n      <td>0</td>\n    </tr>\n    <tr>\n      <th>4</th>\n      <td>10094_episode1_timeseries.csv</td>\n      <td>0</td>\n      <td>10094</td>\n      <td>10094</td>\n      <td>NaN</td>\n      <td>Medicare</td>\n      <td>UNOBTAINABLE</td>\n      <td>BLACK/AFRICAN AMERICAN</td>\n      <td>M</td>\n      <td>0</td>\n    </tr>\n  </tbody>\n</table>\n</div>"
     },
     "execution_count": 8,
     "metadata": {},
     "output_type": "execute_result"
    }
   ],
   "source": [
    "# merge demographics in test df\n",
    "test_listfile = test_listfile.merge(subjects, left_on=\"subject\", right_on=\"SUBJECT_ID\", how=\"left\")\n",
    "test_listfile.head()"
   ],
   "metadata": {
    "collapsed": false
   }
  },
  {
   "cell_type": "code",
   "execution_count": 9,
   "outputs": [
    {
     "name": "stdout",
     "output_type": "stream",
     "text": [
      "Test rows with null demograpphics: 0 (0.0%)\n"
     ]
    },
    {
     "data": {
      "text/plain": "                            stay  y_true  subject LANGUAGE INSURANCE  \\\n0  10011_episode1_timeseries.csv       1    10011      NaN   Private   \n1  10026_episode1_timeseries.csv       0    10026      NaN  Medicare   \n2  10030_episode1_timeseries.csv       0    10030      NaN  Medicare   \n3  10042_episode1_timeseries.csv       0    10042      NaN  Medicare   \n4  10094_episode1_timeseries.csv       0    10094      NaN  Medicare   \n\n       RELIGION               ETHNICITY GENDER  AGE  \n0      CATHOLIC   UNKNOWN/NOT SPECIFIED      F    1  \n1         OTHER                   WHITE      F    0  \n2      CATHOLIC                   WHITE      M    0  \n3  UNOBTAINABLE                   WHITE      M    0  \n4  UNOBTAINABLE  BLACK/AFRICAN AMERICAN      M    0  ",
      "text/html": "<div>\n<style scoped>\n    .dataframe tbody tr th:only-of-type {\n        vertical-align: middle;\n    }\n\n    .dataframe tbody tr th {\n        vertical-align: top;\n    }\n\n    .dataframe thead th {\n        text-align: right;\n    }\n</style>\n<table border=\"1\" class=\"dataframe\">\n  <thead>\n    <tr style=\"text-align: right;\">\n      <th></th>\n      <th>stay</th>\n      <th>y_true</th>\n      <th>subject</th>\n      <th>LANGUAGE</th>\n      <th>INSURANCE</th>\n      <th>RELIGION</th>\n      <th>ETHNICITY</th>\n      <th>GENDER</th>\n      <th>AGE</th>\n    </tr>\n  </thead>\n  <tbody>\n    <tr>\n      <th>0</th>\n      <td>10011_episode1_timeseries.csv</td>\n      <td>1</td>\n      <td>10011</td>\n      <td>NaN</td>\n      <td>Private</td>\n      <td>CATHOLIC</td>\n      <td>UNKNOWN/NOT SPECIFIED</td>\n      <td>F</td>\n      <td>1</td>\n    </tr>\n    <tr>\n      <th>1</th>\n      <td>10026_episode1_timeseries.csv</td>\n      <td>0</td>\n      <td>10026</td>\n      <td>NaN</td>\n      <td>Medicare</td>\n      <td>OTHER</td>\n      <td>WHITE</td>\n      <td>F</td>\n      <td>0</td>\n    </tr>\n    <tr>\n      <th>2</th>\n      <td>10030_episode1_timeseries.csv</td>\n      <td>0</td>\n      <td>10030</td>\n      <td>NaN</td>\n      <td>Medicare</td>\n      <td>CATHOLIC</td>\n      <td>WHITE</td>\n      <td>M</td>\n      <td>0</td>\n    </tr>\n    <tr>\n      <th>3</th>\n      <td>10042_episode1_timeseries.csv</td>\n      <td>0</td>\n      <td>10042</td>\n      <td>NaN</td>\n      <td>Medicare</td>\n      <td>UNOBTAINABLE</td>\n      <td>WHITE</td>\n      <td>M</td>\n      <td>0</td>\n    </tr>\n    <tr>\n      <th>4</th>\n      <td>10094_episode1_timeseries.csv</td>\n      <td>0</td>\n      <td>10094</td>\n      <td>NaN</td>\n      <td>Medicare</td>\n      <td>UNOBTAINABLE</td>\n      <td>BLACK/AFRICAN AMERICAN</td>\n      <td>M</td>\n      <td>0</td>\n    </tr>\n  </tbody>\n</table>\n</div>"
     },
     "execution_count": 9,
     "metadata": {},
     "output_type": "execute_result"
    }
   ],
   "source": [
    "print(\"Test rows with null demograpphics: {} ({}%)\".format(test_listfile.SUBJECT_ID.isna().sum(), test_listfile.SUBJECT_ID.isna().sum()/test_listfile.shape[0]))\n",
    "test_listfile.drop(columns=['SUBJECT_ID'], inplace=True)\n",
    "test_listfile.head()"
   ],
   "metadata": {
    "collapsed": false
   }
  },
  {
   "cell_type": "code",
   "execution_count": 10,
   "outputs": [
    {
     "data": {
      "text/plain": "                            stay  y_true  subject LANGUAGE INSURANCE  \\\n0  10011_episode1_timeseries.csv       1    10011      NaN   Private   \n1  10026_episode1_timeseries.csv       0    10026      NaN  Medicare   \n2  10030_episode1_timeseries.csv       0    10030      NaN  Medicare   \n3  10042_episode1_timeseries.csv       0    10042      NaN  Medicare   \n4  10094_episode1_timeseries.csv       0    10094      NaN  Medicare   \n\n       RELIGION               ETHNICITY GENDER  AGE  y_predicted  \n0      CATHOLIC   UNKNOWN/NOT SPECIFIED      F    1            0  \n1         OTHER                   WHITE      F    0            0  \n2      CATHOLIC                   WHITE      M    0            0  \n3  UNOBTAINABLE                   WHITE      M    0            0  \n4  UNOBTAINABLE  BLACK/AFRICAN AMERICAN      M    0            0  ",
      "text/html": "<div>\n<style scoped>\n    .dataframe tbody tr th:only-of-type {\n        vertical-align: middle;\n    }\n\n    .dataframe tbody tr th {\n        vertical-align: top;\n    }\n\n    .dataframe thead th {\n        text-align: right;\n    }\n</style>\n<table border=\"1\" class=\"dataframe\">\n  <thead>\n    <tr style=\"text-align: right;\">\n      <th></th>\n      <th>stay</th>\n      <th>y_true</th>\n      <th>subject</th>\n      <th>LANGUAGE</th>\n      <th>INSURANCE</th>\n      <th>RELIGION</th>\n      <th>ETHNICITY</th>\n      <th>GENDER</th>\n      <th>AGE</th>\n      <th>y_predicted</th>\n    </tr>\n  </thead>\n  <tbody>\n    <tr>\n      <th>0</th>\n      <td>10011_episode1_timeseries.csv</td>\n      <td>1</td>\n      <td>10011</td>\n      <td>NaN</td>\n      <td>Private</td>\n      <td>CATHOLIC</td>\n      <td>UNKNOWN/NOT SPECIFIED</td>\n      <td>F</td>\n      <td>1</td>\n      <td>0</td>\n    </tr>\n    <tr>\n      <th>1</th>\n      <td>10026_episode1_timeseries.csv</td>\n      <td>0</td>\n      <td>10026</td>\n      <td>NaN</td>\n      <td>Medicare</td>\n      <td>OTHER</td>\n      <td>WHITE</td>\n      <td>F</td>\n      <td>0</td>\n      <td>0</td>\n    </tr>\n    <tr>\n      <th>2</th>\n      <td>10030_episode1_timeseries.csv</td>\n      <td>0</td>\n      <td>10030</td>\n      <td>NaN</td>\n      <td>Medicare</td>\n      <td>CATHOLIC</td>\n      <td>WHITE</td>\n      <td>M</td>\n      <td>0</td>\n      <td>0</td>\n    </tr>\n    <tr>\n      <th>3</th>\n      <td>10042_episode1_timeseries.csv</td>\n      <td>0</td>\n      <td>10042</td>\n      <td>NaN</td>\n      <td>Medicare</td>\n      <td>UNOBTAINABLE</td>\n      <td>WHITE</td>\n      <td>M</td>\n      <td>0</td>\n      <td>0</td>\n    </tr>\n    <tr>\n      <th>4</th>\n      <td>10094_episode1_timeseries.csv</td>\n      <td>0</td>\n      <td>10094</td>\n      <td>NaN</td>\n      <td>Medicare</td>\n      <td>UNOBTAINABLE</td>\n      <td>BLACK/AFRICAN AMERICAN</td>\n      <td>M</td>\n      <td>0</td>\n      <td>0</td>\n    </tr>\n  </tbody>\n</table>\n</div>"
     },
     "execution_count": 10,
     "metadata": {},
     "output_type": "execute_result"
    }
   ],
   "source": [
    "test_listfile.loc[:, \"y_predicted\"] = predictions\n",
    "test_listfile.head()"
   ],
   "metadata": {
    "collapsed": false
   }
  },
  {
   "cell_type": "code",
   "execution_count": 11,
   "outputs": [],
   "source": [
    "# Indicatively testing performance on publicly insured (1 for majority) versus privately insured (0 for minority) subjects\n",
    "test_listfile_Medicare = test_listfile[test_listfile.INSURANCE == \"Medicare\"]\n",
    "test_listfile_Private = test_listfile[test_listfile.INSURANCE == \"Private\"]\n",
    "test_listfile_Medicaid = test_listfile[test_listfile.INSURANCE == \"Medicaid\"]\n",
    "test_listfile_Government = test_listfile[test_listfile.INSURANCE == \"Government\"]\n",
    "test_listfile_Self = test_listfile[test_listfile.INSURANCE == \"Self Pay\"]"
   ],
   "metadata": {
    "collapsed": false
   }
  },
  {
   "cell_type": "code",
   "execution_count": 21,
   "outputs": [
    {
     "name": "stdout",
     "output_type": "stream",
     "text": [
      "\n",
      "--- Train Performance Overall ---\n",
      "{'Accuracy': 0.8633608064845719, 'AUROC': 0.5334233729260677, 'AUPRC': 0.16263444368264365, 'Confusion Matrix': array([[12514,   180],\n",
      "       [ 1826,   161]], dtype=int64), 'F1 Macro': 0.5320566477697551, 'F1 Micro': 0.8633608064845719, 'F1 Weighted': 0.8192155263708678, 'Precision': 0.6724023198648654, 'Recall': 0.5334233729260677, 'Kappa': 0.10273974647795148}\n",
      "\n",
      "--- Validation Performance Overall ---\n",
      "{'Accuracy': 0.8594040968342644, 'AUROC': 0.5327398789491362, 'AUPRC': 0.15834061296877144, 'Confusion Matrix': array([[2732,   54],\n",
      "       [ 399,   37]], dtype=int64), 'F1 Macro': 0.5319291951053456, 'F1 Micro': 0.8594040968342646, 'F1 Weighted': 0.8174824489320465, 'Precision': 0.6395790412079138, 'Recall': 0.5327398789491362, 'Kappa': 0.09827744491987733}\n",
      "\n",
      "--- Test Performance Overall ---\n",
      "{'Accuracy': 0.8788627935723115, 'AUROC': 0.7053460987978191, 'AUPRC': 0.5887859983195709, 'Confusion Matrix': array([[2815,   47],\n",
      "       [ 345,   29]], dtype=int64), 'F1 Macro': 0.531897117974833, 'F1 Micro': 0.8788627935723115, 'F1 Weighted': 0.841750169262172, 'Precision': 0.6362008660892738, 'Recall': 0.5305590122460266, 'Kappa': 0.09350042019449012}\n",
      "{'Accuracy': 0.8788627935723115, 'AUROC': 0.5305590122460266, 'AUPRC': 0.13620077498532726, 'Confusion Matrix': array([[2815,   47],\n",
      "       [ 345,   29]], dtype=int64), 'F1 Macro': 0.531897117974833, 'F1 Micro': 0.8788627935723115, 'F1 Weighted': 0.841750169262172, 'Precision': 0.6362008660892738, 'Recall': 0.5305590122460266, 'Kappa': 0.09350042019449012}\n"
     ]
    }
   ],
   "source": [
    "# Overall performance\n",
    "print(\"\\n--- Train Performance Overall ---\")\n",
    "train_listfile = pd.read_csv(os.path.join('datasets', data_folder, 'train_listfile.csv'))\n",
    "train_listfile.loc[:, \"y_predicted\"] = np.argmax(pretrained_model.predict(np_train[0]),axis=1)\n",
    "print(simclr_utitlities.evaluate_model_simple(train_listfile.y_predicted, train_listfile.y_true, is_one_hot=False, return_dict=True))\n",
    "print(\"\\n--- Validation Performance Overall ---\")\n",
    "val_listfile = pd.read_csv(os.path.join('datasets', data_folder, 'val_listfile.csv'))\n",
    "val_listfile.loc[:, \"y_predicted\"] = np.argmax(pretrained_model.predict(np_val[0]),axis=1)\n",
    "print(simclr_utitlities.evaluate_model_simple(val_listfile.y_predicted, val_listfile.y_true, is_one_hot=False, return_dict=True))\n",
    "# todo buggy: should return same results\n",
    "print(\"\\n--- Test Performance Overall ---\")\n",
    "print(simclr_utitlities.evaluate_model_simple(pretrained_model.predict(np_test[0]), np_test[1], return_dict=True))\n",
    "print(simclr_utitlities.evaluate_model_simple(test_listfile.y_predicted, test_listfile.y_true, is_one_hot=False, return_dict=True))"
   ],
   "metadata": {
    "collapsed": false
   }
  },
  {
   "cell_type": "code",
   "execution_count": 26,
   "outputs": [
    {
     "data": {
      "text/plain": "True"
     },
     "execution_count": 26,
     "metadata": {},
     "output_type": "execute_result"
    }
   ],
   "source": [
    "y1 = pd.Series(np.argmax(np_test[1], axis=1))\n",
    "y2 = test_listfile.y_true\n",
    "y1.equals(y2)"
   ],
   "metadata": {
    "collapsed": false
   }
  },
  {
   "cell_type": "code",
   "execution_count": 27,
   "outputs": [
    {
     "data": {
      "text/plain": "True"
     },
     "execution_count": 27,
     "metadata": {},
     "output_type": "execute_result"
    }
   ],
   "source": [
    "x1 = pd.Series(np.argmax(pretrained_model.predict(np_test[0]), axis=1))\n",
    "x2 = test_listfile.y_predicted\n",
    "x1.equals(x2)"
   ],
   "metadata": {
    "collapsed": false
   }
  },
  {
   "cell_type": "code",
   "execution_count": 37,
   "outputs": [
    {
     "name": "stdout",
     "output_type": "stream",
     "text": [
      "0.7053460987978191\n",
      "0.5305590122460266\n"
     ]
    }
   ],
   "source": [
    "import sklearn\n",
    "# todo what is happening?\n",
    "#     test_auroc = sklearn.metrics.roc_auc_score(truth, pred, multi_class='ovr')\n",
    "print(sklearn.metrics.roc_auc_score(np_test[1], pretrained_model.predict(np_test[0])))  # version from github code\n",
    "print(sklearn.metrics.roc_auc_score(np.argmax(np_test[1], axis=1), np.argmax(pretrained_model.predict(np_test[0]), axis=1)))  # our version"
   ],
   "metadata": {
    "collapsed": false
   }
  },
  {
   "cell_type": "code",
   "execution_count": 43,
   "outputs": [
    {
     "data": {
      "text/plain": "array([[0.8113033 , 0.18869668],\n       [0.91866565, 0.0813344 ],\n       [0.9861631 , 0.01383692],\n       ...,\n       [0.24069574, 0.7593042 ],\n       [0.958743  , 0.04125697],\n       [0.9296661 , 0.07033388]], dtype=float32)"
     },
     "execution_count": 43,
     "metadata": {},
     "output_type": "execute_result"
    }
   ],
   "source": [
    "pretrained_model.predict(np_test[0])"
   ],
   "metadata": {
    "collapsed": false
   }
  },
  {
   "cell_type": "code",
   "execution_count": 16,
   "outputs": [
    {
     "name": "stdout",
     "output_type": "stream",
     "text": [
      "\n",
      "--- Performance Overall ---\n",
      "{'Accuracy': 0.8841161928306551, 'AUROC': 0.5044740785584293, 'AUPRC': 0.11909210625854266, 'Confusion Matrix': array([[2857,    5],\n",
      "       [ 370,    4]], dtype=int64), 'F1 Macro': 0.47965063052965007, 'F1 Micro': 0.8841161928306551, 'F1 Weighted': 0.8323706862621775, 'Precision': 0.6648934338739111, 'Recall': 0.5044740785584293, 'Kappa': 0.015540426526135409}\n",
      "\n",
      "--- Performance on Medicare Insured Subjects ---\n",
      "{'Accuracy': 0.8665265370467683, 'AUROC': 0.5069329430801447, 'AUPRC': 0.14086059016354835, 'Confusion Matrix': array([[1645,    3],\n",
      "       [ 251,    4]], dtype=int64), 'F1 Macro': 0.47943196112556646, 'F1 Micro': 0.8665265370467683, 'F1 Weighted': 0.808025955189085, 'Precision': 0.7195223025919228, 'Recall': 0.5069329430801447, 'Kappa': 0.02354267336813365}\n",
      "\n",
      "--- Performance on Private Insured Subjects ---\n",
      "{'Accuracy': 0.911042944785276, 'AUROC': 0.4994394618834081, 'AUPRC': 0.08793456032719836, 'Confusion Matrix': array([[891,   1],\n",
      "       [ 86,   0]], dtype=int64), 'F1 Macro': 0.4767255216693419, 'F1 Micro': 0.911042944785276, 'F1 Weighted': 0.8696097450491881, 'Precision': 0.45598771750255884, 'Recall': 0.4994394618834081, 'Kappa': -0.0020255788209246894}\n",
      "\n",
      "--- Performance on Medicaid Insured Subjects ---\n",
      "{'Accuracy': 0.9110169491525424, 'AUROC': 0.4976851851851852, 'AUPRC': 0.0847457627118644, 'Confusion Matrix': array([[215,   1],\n",
      "       [ 20,   0]], dtype=int64), 'F1 Macro': 0.47671840354767187, 'F1 Micro': 0.9110169491525424, 'F1 Weighted': 0.8726370776804842, 'Precision': 0.4574468085106383, 'Recall': 0.4976851851851852, 'Kappa': -0.00813669650122062}\n",
      "\n",
      "--- Performance on Government Insured Subjects ---\n",
      "{'Accuracy': 0.9156626506024096, 'AUROC': 0.5, 'AUPRC': 0.08433734939759036, 'Confusion Matrix': array([[76,  0],\n",
      "       [ 7,  0]], dtype=int64), 'F1 Macro': 0.4779874213836478, 'F1 Micro': 0.9156626506024096, 'F1 Weighted': 0.8753504584375238, 'Precision': 0.4578313253012048, 'Recall': 0.5, 'Kappa': 0.0}\n",
      "\n",
      "--- Performance on Self-Insured Subjects ---\n",
      "{'Accuracy': 0.8333333333333334, 'AUROC': 0.5, 'AUPRC': 0.16666666666666666, 'Confusion Matrix': array([[30,  0],\n",
      "       [ 6,  0]], dtype=int64), 'F1 Macro': 0.45454545454545453, 'F1 Micro': 0.8333333333333334, 'F1 Weighted': 0.7575757575757576, 'Precision': 0.4166666666666667, 'Recall': 0.5, 'Kappa': 0.0}\n"
     ]
    },
    {
     "name": "stderr",
     "output_type": "stream",
     "text": [
      "C:\\Users\\syfan\\PycharmProjects\\TFC-pretraining\\venv\\lib\\site-packages\\sklearn\\metrics\\_classification.py:1221: UndefinedMetricWarning: Precision is ill-defined and being set to 0.0 in labels with no predicted samples. Use `zero_division` parameter to control this behavior.\n",
      "  _warn_prf(average, modifier, msg_start, len(result))\n",
      "C:\\Users\\syfan\\PycharmProjects\\TFC-pretraining\\venv\\lib\\site-packages\\sklearn\\metrics\\_classification.py:1221: UndefinedMetricWarning: Precision is ill-defined and being set to 0.0 in labels with no predicted samples. Use `zero_division` parameter to control this behavior.\n",
      "  _warn_prf(average, modifier, msg_start, len(result))\n"
     ]
    }
   ],
   "source": [
    "# Fairness Comparisons conditioned on Insurance Type\n",
    "print(\"\\n--- Performance on Medicare Insured Subjects ---\")\n",
    "print(simclr_utitlities.evaluate_model_simple(test_listfile_Medicare.y_predicted, test_listfile_Medicare.y_true, is_one_hot=False, return_dict=True))\n",
    "print(\"\\n--- Performance on Private Insured Subjects ---\")\n",
    "print(simclr_utitlities.evaluate_model_simple(test_listfile_Private.y_predicted, test_listfile_Private.y_true, is_one_hot=False, return_dict=True))\n",
    "print(\"\\n--- Performance on Medicaid Insured Subjects ---\")\n",
    "print(simclr_utitlities.evaluate_model_simple(test_listfile_Medicaid.y_predicted, test_listfile_Medicaid.y_true, is_one_hot=False, return_dict=True))\n",
    "print(\"\\n--- Performance on Government Insured Subjects ---\")\n",
    "print(simclr_utitlities.evaluate_model_simple(test_listfile_Government.y_predicted, test_listfile_Government.y_true, is_one_hot=False, return_dict=True))\n",
    "print(\"\\n--- Performance on Self-Insured Subjects ---\")\n",
    "print(simclr_utitlities.evaluate_model_simple(test_listfile_Self.y_predicted, test_listfile_Self.y_true, is_one_hot=False, return_dict=True))"
   ],
   "metadata": {
    "collapsed": false
   }
  },
  {
   "cell_type": "code",
   "execution_count": null,
   "outputs": [],
   "source": [],
   "metadata": {
    "collapsed": false
   }
  }
 ],
 "metadata": {
  "kernelspec": {
   "display_name": "Python 3",
   "language": "python",
   "name": "python3"
  },
  "language_info": {
   "codemirror_mode": {
    "name": "ipython",
    "version": 2
   },
   "file_extension": ".py",
   "mimetype": "text/x-python",
   "name": "python",
   "nbconvert_exporter": "python",
   "pygments_lexer": "ipython2",
   "version": "2.7.6"
  }
 },
 "nbformat": 4,
 "nbformat_minor": 0
}
