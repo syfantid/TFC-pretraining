{
 "cells": [
  {
   "cell_type": "code",
   "execution_count": 1,
   "metadata": {
    "collapsed": true
   },
   "outputs": [],
   "source": [
    "import os\n",
    "import pickle\n",
    "\n",
    "import pandas as pd\n",
    "import scipy\n",
    "import datetime\n",
    "import numpy as np\n",
    "import tensorflow as tf\n",
    "\n",
    "from definitions import ROOT_DIR\n",
    "\n",
    "seed = 2\n",
    "tf.random.set_seed(seed)\n",
    "np.random.seed(seed)\n",
    "\n",
    "import simclr_models\n",
    "import simclr_utitlities"
   ]
  },
  {
   "cell_type": "code",
   "execution_count": 2,
   "outputs": [],
   "source": [
    "# Dataset-specific\n",
    "# working_directory = 'SleepEEG/'\n",
    "# data_folder = 'SleepEEG'\n",
    "working_directory = 'MIMIC/'\n",
    "data_folder = 'MIMIC'\n",
    "model_name = '20230227-115713_finetuning.hdf5'"
   ],
   "metadata": {
    "collapsed": false
   }
  },
  {
   "cell_type": "code",
   "execution_count": 3,
   "outputs": [],
   "source": [
    "# Load preprocessed data\n",
    "np_test = (np.load(os.path.join(data_folder, 'test_x.npy')),\n",
    "           np.load(os.path.join(data_folder, 'test_y.npy')))\n",
    "\n",
    "pretrained_model = tf.keras.models.load_model(os.path.join(working_directory, model_name), compile=False)\n",
    "probs = pretrained_model.predict(np_test[0])\n",
    "\n",
    "# print(simclr_utitlities.evaluate_model_simple(pretrained_model.predict(np_test[0]), np_test[1], return_dict=True))"
   ],
   "metadata": {
    "collapsed": false
   }
  },
  {
   "cell_type": "code",
   "execution_count": 4,
   "outputs": [],
   "source": [
    "predictions = np.argmax(probs,axis=1)"
   ],
   "metadata": {
    "collapsed": false
   }
  },
  {
   "cell_type": "code",
   "execution_count": 5,
   "outputs": [
    {
     "data": {
      "text/plain": "   SUBJECT_ID  LANGUAGE  INSURANCE  RELIGION  ETHNICITY  GENDER  AGE\n0          22         1          1         1          1       0    1\n1          23         1          1         1          1       1    0\n2          24         1          1         1          1       1    1\n3          25         1          1         1          1       1    1\n4          26         1          1         1          0       1    0",
      "text/html": "<div>\n<style scoped>\n    .dataframe tbody tr th:only-of-type {\n        vertical-align: middle;\n    }\n\n    .dataframe tbody tr th {\n        vertical-align: top;\n    }\n\n    .dataframe thead th {\n        text-align: right;\n    }\n</style>\n<table border=\"1\" class=\"dataframe\">\n  <thead>\n    <tr style=\"text-align: right;\">\n      <th></th>\n      <th>SUBJECT_ID</th>\n      <th>LANGUAGE</th>\n      <th>INSURANCE</th>\n      <th>RELIGION</th>\n      <th>ETHNICITY</th>\n      <th>GENDER</th>\n      <th>AGE</th>\n    </tr>\n  </thead>\n  <tbody>\n    <tr>\n      <th>0</th>\n      <td>22</td>\n      <td>1</td>\n      <td>1</td>\n      <td>1</td>\n      <td>1</td>\n      <td>0</td>\n      <td>1</td>\n    </tr>\n    <tr>\n      <th>1</th>\n      <td>23</td>\n      <td>1</td>\n      <td>1</td>\n      <td>1</td>\n      <td>1</td>\n      <td>1</td>\n      <td>0</td>\n    </tr>\n    <tr>\n      <th>2</th>\n      <td>24</td>\n      <td>1</td>\n      <td>1</td>\n      <td>1</td>\n      <td>1</td>\n      <td>1</td>\n      <td>1</td>\n    </tr>\n    <tr>\n      <th>3</th>\n      <td>25</td>\n      <td>1</td>\n      <td>1</td>\n      <td>1</td>\n      <td>1</td>\n      <td>1</td>\n      <td>1</td>\n    </tr>\n    <tr>\n      <th>4</th>\n      <td>26</td>\n      <td>1</td>\n      <td>1</td>\n      <td>1</td>\n      <td>0</td>\n      <td>1</td>\n      <td>0</td>\n    </tr>\n  </tbody>\n</table>\n</div>"
     },
     "execution_count": 5,
     "metadata": {},
     "output_type": "execute_result"
    }
   ],
   "source": [
    "os.chdir(ROOT_DIR)\n",
    "subjects = pd.read_csv(os.path.join('datasets', data_folder, 'demographics.csv'))\n",
    "subjects.head()"
   ],
   "metadata": {
    "collapsed": false
   }
  },
  {
   "cell_type": "code",
   "execution_count": 6,
   "outputs": [
    {
     "data": {
      "text/plain": "                            stay  y_true\n0  10011_episode1_timeseries.csv       1\n1  10026_episode1_timeseries.csv       0\n2  10030_episode1_timeseries.csv       0\n3  10042_episode1_timeseries.csv       0\n4  10094_episode1_timeseries.csv       0",
      "text/html": "<div>\n<style scoped>\n    .dataframe tbody tr th:only-of-type {\n        vertical-align: middle;\n    }\n\n    .dataframe tbody tr th {\n        vertical-align: top;\n    }\n\n    .dataframe thead th {\n        text-align: right;\n    }\n</style>\n<table border=\"1\" class=\"dataframe\">\n  <thead>\n    <tr style=\"text-align: right;\">\n      <th></th>\n      <th>stay</th>\n      <th>y_true</th>\n    </tr>\n  </thead>\n  <tbody>\n    <tr>\n      <th>0</th>\n      <td>10011_episode1_timeseries.csv</td>\n      <td>1</td>\n    </tr>\n    <tr>\n      <th>1</th>\n      <td>10026_episode1_timeseries.csv</td>\n      <td>0</td>\n    </tr>\n    <tr>\n      <th>2</th>\n      <td>10030_episode1_timeseries.csv</td>\n      <td>0</td>\n    </tr>\n    <tr>\n      <th>3</th>\n      <td>10042_episode1_timeseries.csv</td>\n      <td>0</td>\n    </tr>\n    <tr>\n      <th>4</th>\n      <td>10094_episode1_timeseries.csv</td>\n      <td>0</td>\n    </tr>\n  </tbody>\n</table>\n</div>"
     },
     "execution_count": 6,
     "metadata": {},
     "output_type": "execute_result"
    }
   ],
   "source": [
    "test_listfile = pd.read_csv(os.path.join('datasets', data_folder, 'test_listfile.csv'))\n",
    "test_listfile.head()"
   ],
   "metadata": {
    "collapsed": false
   }
  },
  {
   "cell_type": "code",
   "execution_count": 7,
   "outputs": [
    {
     "data": {
      "text/plain": "                            stay  y_true  subject\n0  10011_episode1_timeseries.csv       1    10011\n1  10026_episode1_timeseries.csv       0    10026\n2  10030_episode1_timeseries.csv       0    10030\n3  10042_episode1_timeseries.csv       0    10042\n4  10094_episode1_timeseries.csv       0    10094",
      "text/html": "<div>\n<style scoped>\n    .dataframe tbody tr th:only-of-type {\n        vertical-align: middle;\n    }\n\n    .dataframe tbody tr th {\n        vertical-align: top;\n    }\n\n    .dataframe thead th {\n        text-align: right;\n    }\n</style>\n<table border=\"1\" class=\"dataframe\">\n  <thead>\n    <tr style=\"text-align: right;\">\n      <th></th>\n      <th>stay</th>\n      <th>y_true</th>\n      <th>subject</th>\n    </tr>\n  </thead>\n  <tbody>\n    <tr>\n      <th>0</th>\n      <td>10011_episode1_timeseries.csv</td>\n      <td>1</td>\n      <td>10011</td>\n    </tr>\n    <tr>\n      <th>1</th>\n      <td>10026_episode1_timeseries.csv</td>\n      <td>0</td>\n      <td>10026</td>\n    </tr>\n    <tr>\n      <th>2</th>\n      <td>10030_episode1_timeseries.csv</td>\n      <td>0</td>\n      <td>10030</td>\n    </tr>\n    <tr>\n      <th>3</th>\n      <td>10042_episode1_timeseries.csv</td>\n      <td>0</td>\n      <td>10042</td>\n    </tr>\n    <tr>\n      <th>4</th>\n      <td>10094_episode1_timeseries.csv</td>\n      <td>0</td>\n      <td>10094</td>\n    </tr>\n  </tbody>\n</table>\n</div>"
     },
     "execution_count": 7,
     "metadata": {},
     "output_type": "execute_result"
    }
   ],
   "source": [
    "# Get subject from test\n",
    "test_listfile.loc[:, \"subject\"] = test_listfile.stay.apply(lambda stay: stay.split(\"_\")[0]).astype(int)\n",
    "test_listfile.head()"
   ],
   "metadata": {
    "collapsed": false
   }
  },
  {
   "cell_type": "code",
   "execution_count": 8,
   "outputs": [
    {
     "data": {
      "text/plain": "                            stay  y_true  subject  SUBJECT_ID  LANGUAGE  \\\n0  10011_episode1_timeseries.csv       1    10011       10011         1   \n1  10026_episode1_timeseries.csv       0    10026       10026         1   \n2  10030_episode1_timeseries.csv       0    10030       10030         1   \n3  10042_episode1_timeseries.csv       0    10042       10042         1   \n4  10094_episode1_timeseries.csv       0    10094       10094         1   \n\n   INSURANCE  RELIGION  ETHNICITY  GENDER  AGE  \n0          1         1          0       0    1  \n1          1         0          1       0    0  \n2          1         1          1       1    0  \n3          1         1          1       1    0  \n4          1         1          0       1    0  ",
      "text/html": "<div>\n<style scoped>\n    .dataframe tbody tr th:only-of-type {\n        vertical-align: middle;\n    }\n\n    .dataframe tbody tr th {\n        vertical-align: top;\n    }\n\n    .dataframe thead th {\n        text-align: right;\n    }\n</style>\n<table border=\"1\" class=\"dataframe\">\n  <thead>\n    <tr style=\"text-align: right;\">\n      <th></th>\n      <th>stay</th>\n      <th>y_true</th>\n      <th>subject</th>\n      <th>SUBJECT_ID</th>\n      <th>LANGUAGE</th>\n      <th>INSURANCE</th>\n      <th>RELIGION</th>\n      <th>ETHNICITY</th>\n      <th>GENDER</th>\n      <th>AGE</th>\n    </tr>\n  </thead>\n  <tbody>\n    <tr>\n      <th>0</th>\n      <td>10011_episode1_timeseries.csv</td>\n      <td>1</td>\n      <td>10011</td>\n      <td>10011</td>\n      <td>1</td>\n      <td>1</td>\n      <td>1</td>\n      <td>0</td>\n      <td>0</td>\n      <td>1</td>\n    </tr>\n    <tr>\n      <th>1</th>\n      <td>10026_episode1_timeseries.csv</td>\n      <td>0</td>\n      <td>10026</td>\n      <td>10026</td>\n      <td>1</td>\n      <td>1</td>\n      <td>0</td>\n      <td>1</td>\n      <td>0</td>\n      <td>0</td>\n    </tr>\n    <tr>\n      <th>2</th>\n      <td>10030_episode1_timeseries.csv</td>\n      <td>0</td>\n      <td>10030</td>\n      <td>10030</td>\n      <td>1</td>\n      <td>1</td>\n      <td>1</td>\n      <td>1</td>\n      <td>1</td>\n      <td>0</td>\n    </tr>\n    <tr>\n      <th>3</th>\n      <td>10042_episode1_timeseries.csv</td>\n      <td>0</td>\n      <td>10042</td>\n      <td>10042</td>\n      <td>1</td>\n      <td>1</td>\n      <td>1</td>\n      <td>1</td>\n      <td>1</td>\n      <td>0</td>\n    </tr>\n    <tr>\n      <th>4</th>\n      <td>10094_episode1_timeseries.csv</td>\n      <td>0</td>\n      <td>10094</td>\n      <td>10094</td>\n      <td>1</td>\n      <td>1</td>\n      <td>1</td>\n      <td>0</td>\n      <td>1</td>\n      <td>0</td>\n    </tr>\n  </tbody>\n</table>\n</div>"
     },
     "execution_count": 8,
     "metadata": {},
     "output_type": "execute_result"
    }
   ],
   "source": [
    "# merge demographics in test df\n",
    "test_listfile = test_listfile.merge(subjects, left_on=\"subject\", right_on=\"SUBJECT_ID\", how=\"left\")\n",
    "test_listfile.head()"
   ],
   "metadata": {
    "collapsed": false
   }
  },
  {
   "cell_type": "code",
   "execution_count": 9,
   "outputs": [
    {
     "name": "stdout",
     "output_type": "stream",
     "text": [
      "Test rows with null demograpphics: 0 (0.0%)\n"
     ]
    },
    {
     "data": {
      "text/plain": "                            stay  y_true  subject  LANGUAGE  INSURANCE  \\\n0  10011_episode1_timeseries.csv       1    10011         1          1   \n1  10026_episode1_timeseries.csv       0    10026         1          1   \n2  10030_episode1_timeseries.csv       0    10030         1          1   \n3  10042_episode1_timeseries.csv       0    10042         1          1   \n4  10094_episode1_timeseries.csv       0    10094         1          1   \n\n   RELIGION  ETHNICITY  GENDER  AGE  \n0         1          0       0    1  \n1         0          1       0    0  \n2         1          1       1    0  \n3         1          1       1    0  \n4         1          0       1    0  ",
      "text/html": "<div>\n<style scoped>\n    .dataframe tbody tr th:only-of-type {\n        vertical-align: middle;\n    }\n\n    .dataframe tbody tr th {\n        vertical-align: top;\n    }\n\n    .dataframe thead th {\n        text-align: right;\n    }\n</style>\n<table border=\"1\" class=\"dataframe\">\n  <thead>\n    <tr style=\"text-align: right;\">\n      <th></th>\n      <th>stay</th>\n      <th>y_true</th>\n      <th>subject</th>\n      <th>LANGUAGE</th>\n      <th>INSURANCE</th>\n      <th>RELIGION</th>\n      <th>ETHNICITY</th>\n      <th>GENDER</th>\n      <th>AGE</th>\n    </tr>\n  </thead>\n  <tbody>\n    <tr>\n      <th>0</th>\n      <td>10011_episode1_timeseries.csv</td>\n      <td>1</td>\n      <td>10011</td>\n      <td>1</td>\n      <td>1</td>\n      <td>1</td>\n      <td>0</td>\n      <td>0</td>\n      <td>1</td>\n    </tr>\n    <tr>\n      <th>1</th>\n      <td>10026_episode1_timeseries.csv</td>\n      <td>0</td>\n      <td>10026</td>\n      <td>1</td>\n      <td>1</td>\n      <td>0</td>\n      <td>1</td>\n      <td>0</td>\n      <td>0</td>\n    </tr>\n    <tr>\n      <th>2</th>\n      <td>10030_episode1_timeseries.csv</td>\n      <td>0</td>\n      <td>10030</td>\n      <td>1</td>\n      <td>1</td>\n      <td>1</td>\n      <td>1</td>\n      <td>1</td>\n      <td>0</td>\n    </tr>\n    <tr>\n      <th>3</th>\n      <td>10042_episode1_timeseries.csv</td>\n      <td>0</td>\n      <td>10042</td>\n      <td>1</td>\n      <td>1</td>\n      <td>1</td>\n      <td>1</td>\n      <td>1</td>\n      <td>0</td>\n    </tr>\n    <tr>\n      <th>4</th>\n      <td>10094_episode1_timeseries.csv</td>\n      <td>0</td>\n      <td>10094</td>\n      <td>1</td>\n      <td>1</td>\n      <td>1</td>\n      <td>0</td>\n      <td>1</td>\n      <td>0</td>\n    </tr>\n  </tbody>\n</table>\n</div>"
     },
     "execution_count": 9,
     "metadata": {},
     "output_type": "execute_result"
    }
   ],
   "source": [
    "print(\"Test rows with null demograpphics: {} ({}%)\".format(test_listfile.SUBJECT_ID.isna().sum(), test_listfile.SUBJECT_ID.isna().sum()/test_listfile.shape[0]))\n",
    "test_listfile.drop(columns=['SUBJECT_ID'], inplace=True)\n",
    "test_listfile.head()"
   ],
   "metadata": {
    "collapsed": false
   }
  },
  {
   "cell_type": "code",
   "execution_count": 10,
   "outputs": [
    {
     "data": {
      "text/plain": "                            stay  y_true  subject  LANGUAGE  INSURANCE  \\\n0  10011_episode1_timeseries.csv       1    10011         1          1   \n1  10026_episode1_timeseries.csv       0    10026         1          1   \n2  10030_episode1_timeseries.csv       0    10030         1          1   \n3  10042_episode1_timeseries.csv       0    10042         1          1   \n4  10094_episode1_timeseries.csv       0    10094         1          1   \n\n   RELIGION  ETHNICITY  GENDER  AGE  y_predicted  \n0         1          0       0    1            0  \n1         0          1       0    0            0  \n2         1          1       1    0            0  \n3         1          1       1    0            0  \n4         1          0       1    0            0  ",
      "text/html": "<div>\n<style scoped>\n    .dataframe tbody tr th:only-of-type {\n        vertical-align: middle;\n    }\n\n    .dataframe tbody tr th {\n        vertical-align: top;\n    }\n\n    .dataframe thead th {\n        text-align: right;\n    }\n</style>\n<table border=\"1\" class=\"dataframe\">\n  <thead>\n    <tr style=\"text-align: right;\">\n      <th></th>\n      <th>stay</th>\n      <th>y_true</th>\n      <th>subject</th>\n      <th>LANGUAGE</th>\n      <th>INSURANCE</th>\n      <th>RELIGION</th>\n      <th>ETHNICITY</th>\n      <th>GENDER</th>\n      <th>AGE</th>\n      <th>y_predicted</th>\n    </tr>\n  </thead>\n  <tbody>\n    <tr>\n      <th>0</th>\n      <td>10011_episode1_timeseries.csv</td>\n      <td>1</td>\n      <td>10011</td>\n      <td>1</td>\n      <td>1</td>\n      <td>1</td>\n      <td>0</td>\n      <td>0</td>\n      <td>1</td>\n      <td>0</td>\n    </tr>\n    <tr>\n      <th>1</th>\n      <td>10026_episode1_timeseries.csv</td>\n      <td>0</td>\n      <td>10026</td>\n      <td>1</td>\n      <td>1</td>\n      <td>0</td>\n      <td>1</td>\n      <td>0</td>\n      <td>0</td>\n      <td>0</td>\n    </tr>\n    <tr>\n      <th>2</th>\n      <td>10030_episode1_timeseries.csv</td>\n      <td>0</td>\n      <td>10030</td>\n      <td>1</td>\n      <td>1</td>\n      <td>1</td>\n      <td>1</td>\n      <td>1</td>\n      <td>0</td>\n      <td>0</td>\n    </tr>\n    <tr>\n      <th>3</th>\n      <td>10042_episode1_timeseries.csv</td>\n      <td>0</td>\n      <td>10042</td>\n      <td>1</td>\n      <td>1</td>\n      <td>1</td>\n      <td>1</td>\n      <td>1</td>\n      <td>0</td>\n      <td>0</td>\n    </tr>\n    <tr>\n      <th>4</th>\n      <td>10094_episode1_timeseries.csv</td>\n      <td>0</td>\n      <td>10094</td>\n      <td>1</td>\n      <td>1</td>\n      <td>1</td>\n      <td>0</td>\n      <td>1</td>\n      <td>0</td>\n      <td>0</td>\n    </tr>\n  </tbody>\n</table>\n</div>"
     },
     "execution_count": 10,
     "metadata": {},
     "output_type": "execute_result"
    }
   ],
   "source": [
    "test_listfile.loc[:, \"y_predicted\"] = predictions\n",
    "test_listfile.head()"
   ],
   "metadata": {
    "collapsed": false
   }
  },
  {
   "cell_type": "code",
   "execution_count": 21,
   "outputs": [],
   "source": [
    "# Indicatively testing performance on publicly insured (1 for majority) versus privately insured (0 for minority) subjects\n",
    "test_listfile_f = test_listfile[test_listfile.INSURANCE == 0]\n",
    "test_listfile_m = test_listfile[test_listfile.INSURANCE == 1]"
   ],
   "metadata": {
    "collapsed": false
   }
  },
  {
   "cell_type": "code",
   "execution_count": 22,
   "outputs": [
    {
     "name": "stdout",
     "output_type": "stream",
     "text": [
      "\n",
      "--- Performance on Publicly Insured Subjects ---\n",
      "{'Accuracy': 0.8333333333333334, 'AUROC': 0.5, 'AUPRC': 0.16666666666666666, 'Confusion Matrix': array([[30,  0],\n",
      "       [ 6,  0]], dtype=int64), 'F1 Macro': 0.45454545454545453, 'F1 Micro': 0.8333333333333334, 'F1 Weighted': 0.7575757575757576, 'Precision': 0.4166666666666667, 'Recall': 0.5, 'Kappa': 0.0}\n"
     ]
    },
    {
     "name": "stderr",
     "output_type": "stream",
     "text": [
      "C:\\Users\\syfan\\PycharmProjects\\TFC-pretraining\\venv\\lib\\site-packages\\sklearn\\metrics\\_classification.py:1221: UndefinedMetricWarning: Precision is ill-defined and being set to 0.0 in labels with no predicted samples. Use `zero_division` parameter to control this behavior.\n",
      "  _warn_prf(average, modifier, msg_start, len(result))\n"
     ]
    }
   ],
   "source": [
    "print(\"\\n--- Performance on Publicly Insured Subjects ---\")\n",
    "print(simclr_utitlities.evaluate_model_simple(test_listfile_f.y_predicted, test_listfile_f.y_true, is_one_hot=False, return_dict=True))"
   ],
   "metadata": {
    "collapsed": false
   }
  },
  {
   "cell_type": "code",
   "execution_count": 23,
   "outputs": [
    {
     "name": "stdout",
     "output_type": "stream",
     "text": [
      "\n",
      "--- Performance on Privately Insured Subjects ---\n",
      "{'Accuracy': 0.8846875, 'AUROC': 0.5045520142471137, 'AUPRC': 0.11858091787439613, 'Confusion Matrix': array([[2827,    5],\n",
      "       [ 364,    4]], dtype=int64), 'F1 Macro': 0.47997750444692344, 'F1 Micro': 0.8846875, 'F1 Weighted': 0.8332206603246354, 'Precision': 0.6651868101257008, 'Recall': 0.5045520142471137, 'Kappa': 0.015816285706665156}\n"
     ]
    }
   ],
   "source": [
    "print(\"\\n--- Performance on Privately Insured Subjects ---\")\n",
    "print(simclr_utitlities.evaluate_model_simple(test_listfile_m.y_predicted, test_listfile_m.y_true, is_one_hot=False, return_dict=True))"
   ],
   "metadata": {
    "collapsed": false
   }
  },
  {
   "cell_type": "code",
   "execution_count": null,
   "outputs": [],
   "source": [],
   "metadata": {
    "collapsed": false
   }
  }
 ],
 "metadata": {
  "kernelspec": {
   "display_name": "Python 3",
   "language": "python",
   "name": "python3"
  },
  "language_info": {
   "codemirror_mode": {
    "name": "ipython",
    "version": 2
   },
   "file_extension": ".py",
   "mimetype": "text/x-python",
   "name": "python",
   "nbconvert_exporter": "python",
   "pygments_lexer": "ipython2",
   "version": "2.7.6"
  }
 },
 "nbformat": 4,
 "nbformat_minor": 0
}
